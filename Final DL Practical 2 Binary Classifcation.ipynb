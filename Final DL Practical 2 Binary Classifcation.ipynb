{
 "cells": [
  {
   "cell_type": "code",
   "execution_count": 1,
   "id": "c1a5ecc4",
   "metadata": {},
   "outputs": [],
   "source": [
    "from tensorflow.keras.datasets import imdb\n",
    "import numpy as np\n",
    "from tensorflow.keras.models import Sequential\n",
    "from tensorflow.keras.layers import Dense"
   ]
  },
  {
   "cell_type": "code",
   "execution_count": 3,
   "id": "f61c54cf",
   "metadata": {},
   "outputs": [
    {
     "name": "stdout",
     "output_type": "stream",
     "text": [
      "[1 0 0 ... 0 1 0]\n"
     ]
    }
   ],
   "source": [
    "(train_data, train_labels), (test_data, test_labels) = imdb.load_data(num_words = 10000)\n",
    "print(train_labels)"
   ]
  },
  {
   "cell_type": "code",
   "execution_count": 4,
   "id": "26efba81",
   "metadata": {},
   "outputs": [],
   "source": [
    "def vectorize(sequences):\n",
    "    results = np.zeros((len(sequences),10000))\n",
    "    for i, sequence in enumerate(sequences):\n",
    "        results[i,sequence] = 1\n",
    "    return results\n",
    "X_train = vectorize(train_data)\n",
    "X_test = vectorize(test_data)\n",
    "Y_train = np.asarray(train_labels).astype('float32')\n",
    "Y_test = np.asarray(test_labels).astype('float32')"
   ]
  },
  {
   "cell_type": "code",
   "execution_count": 5,
   "id": "6b590cac",
   "metadata": {},
   "outputs": [],
   "source": [
    "model  = Sequential()\n",
    "model.add(Dense(16, activation = 'relu', input_shape = (10000,)))\n",
    "model.add(Dense(16, activation = 'relu'))\n",
    "model.add(Dense(1, activation = 'sigmoid'))"
   ]
  },
  {
   "cell_type": "code",
   "execution_count": 6,
   "id": "606e6b3e",
   "metadata": {},
   "outputs": [],
   "source": [
    "from keras import optimizers, losses, metrics\n",
    "model.compile(optimizer = 'rmsprop', loss = 'binary_crossentropy', metrics = [metrics.binary_accuracy])"
   ]
  },
  {
   "cell_type": "code",
   "execution_count": 7,
   "id": "f822f001",
   "metadata": {},
   "outputs": [
    {
     "name": "stdout",
     "output_type": "stream",
     "text": [
      "Epoch 1/5\n",
      "35/35 [==============================] - 11s 174ms/step - loss: 0.4960 - binary_accuracy: 0.7937 - val_loss: 0.3553 - val_binary_accuracy: 0.8799\n",
      "Epoch 2/5\n",
      "35/35 [==============================] - 1s 16ms/step - loss: 0.2978 - binary_accuracy: 0.8959 - val_loss: 0.2880 - val_binary_accuracy: 0.8927\n",
      "Epoch 3/5\n",
      "35/35 [==============================] - 1s 24ms/step - loss: 0.2264 - binary_accuracy: 0.9223 - val_loss: 0.3131 - val_binary_accuracy: 0.8771\n",
      "Epoch 4/5\n",
      "35/35 [==============================] - 1s 23ms/step - loss: 0.1882 - binary_accuracy: 0.9355 - val_loss: 0.2812 - val_binary_accuracy: 0.8875\n",
      "Epoch 5/5\n",
      "35/35 [==============================] - 1s 18ms/step - loss: 0.1552 - binary_accuracy: 0.9481 - val_loss: 0.2894 - val_binary_accuracy: 0.8847\n"
     ]
    }
   ],
   "source": [
    "history = model.fit(X_train, Y_train, epochs = 5, batch_size = 512, validation_split = 0.3)"
   ]
  },
  {
   "cell_type": "code",
   "execution_count": 8,
   "id": "23d07beb",
   "metadata": {},
   "outputs": [
    {
     "name": "stdout",
     "output_type": "stream",
     "text": [
      "782/782 [==============================] - 6s 2ms/step\n"
     ]
    },
    {
     "data": {
      "text/plain": [
       "array([[0.3116775 ],\n",
       "       [0.9999622 ],\n",
       "       [0.46818167],\n",
       "       ...,\n",
       "       [0.17488298],\n",
       "       [0.1112157 ],\n",
       "       [0.5395152 ]], dtype=float32)"
      ]
     },
     "execution_count": 8,
     "metadata": {},
     "output_type": "execute_result"
    }
   ],
   "source": [
    "model.predict(X_test)"
   ]
  }
 ],
 "metadata": {
  "kernelspec": {
   "display_name": "Python 3 (ipykernel)",
   "language": "python",
   "name": "python3"
  },
  "language_info": {
   "codemirror_mode": {
    "name": "ipython",
    "version": 3
   },
   "file_extension": ".py",
   "mimetype": "text/x-python",
   "name": "python",
   "nbconvert_exporter": "python",
   "pygments_lexer": "ipython3",
   "version": "3.11.2"
  }
 },
 "nbformat": 4,
 "nbformat_minor": 5
}
