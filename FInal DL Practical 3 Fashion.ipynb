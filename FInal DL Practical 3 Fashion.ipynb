{
 "cells": [
  {
   "cell_type": "code",
   "execution_count": 14,
   "id": "88f1661b",
   "metadata": {},
   "outputs": [],
   "source": [
    "import numpy as np\n",
    "from tensorflow.keras.datasets import fashion_mnist\n",
    "from tensorflow.keras.models import Sequential\n",
    "from tensorflow.keras.layers import Dense,Flatten\n",
    "from tensorflow.keras import optimizers, losses, metrics\n",
    "from tensorflow.keras.utils import to_categorical"
   ]
  },
  {
   "cell_type": "code",
   "execution_count": 15,
   "id": "fb983625",
   "metadata": {},
   "outputs": [],
   "source": [
    "(train_data,train_labels), (test_data,test_labels) = fashion_mnist.load_data()"
   ]
  },
  {
   "cell_type": "code",
   "execution_count": 25,
   "id": "4f02901d",
   "metadata": {},
   "outputs": [],
   "source": [
    "model = Sequential()\n",
    "model.add(Flatten(input_shape = (28,28)))\n",
    "model.add(Dense(128, activation = 'relu'))\n",
    "model.add(Dense(10, activation = 'softmax'))\n",
    "model.compile(optimizer = 'adam', loss = 'categorical_crossentropy', metrics = ['accuracy'])"
   ]
  },
  {
   "cell_type": "code",
   "execution_count": 26,
   "id": "b213368a",
   "metadata": {},
   "outputs": [],
   "source": [
    "X_train = train_data.astype(np.float32) / 255.0\n",
    "X_test = test_data.astype(np.float32) / 255.0\n",
    "Y_train = to_categorical(train_labels)\n",
    "Y_test = to_categorical(test_labels)"
   ]
  },
  {
   "cell_type": "code",
   "execution_count": 27,
   "id": "373fb181",
   "metadata": {},
   "outputs": [
    {
     "name": "stdout",
     "output_type": "stream",
     "text": [
      "Epoch 1/5\n",
      "1500/1500 [==============================] - 13s 8ms/step - loss: 0.5235 - accuracy: 0.8165 - val_loss: 0.4035 - val_accuracy: 0.8553\n",
      "Epoch 2/5\n",
      "1500/1500 [==============================] - 10s 7ms/step - loss: 0.3874 - accuracy: 0.8614 - val_loss: 0.3817 - val_accuracy: 0.8619\n",
      "Epoch 3/5\n",
      "1500/1500 [==============================] - 8s 6ms/step - loss: 0.3488 - accuracy: 0.8734 - val_loss: 0.3510 - val_accuracy: 0.8732\n",
      "Epoch 4/5\n",
      "1500/1500 [==============================] - 11s 7ms/step - loss: 0.3201 - accuracy: 0.8829 - val_loss: 0.3706 - val_accuracy: 0.8637\n",
      "Epoch 5/5\n",
      "1500/1500 [==============================] - 9s 6ms/step - loss: 0.3011 - accuracy: 0.8887 - val_loss: 0.3326 - val_accuracy: 0.8820\n"
     ]
    },
    {
     "data": {
      "text/plain": [
       "<keras.callbacks.History at 0x1b20328d610>"
      ]
     },
     "execution_count": 27,
     "metadata": {},
     "output_type": "execute_result"
    }
   ],
   "source": [
    "model.fit(X_train,Y_train,epochs=5,validation_split=0.2)"
   ]
  },
  {
   "cell_type": "code",
   "execution_count": 29,
   "id": "65829cfd",
   "metadata": {},
   "outputs": [
    {
     "name": "stdout",
     "output_type": "stream",
     "text": [
      "313/313 [==============================] - 1s 4ms/step - loss: 0.3555 - accuracy: 0.8733\n",
      "0.35548481345176697\n",
      "0.8733000159263611\n"
     ]
    }
   ],
   "source": [
    "loss,acc = model.evaluate(X_test,Y_test)\n",
    "print(loss)\n",
    "print(acc)"
   ]
  }
 ],
 "metadata": {
  "kernelspec": {
   "display_name": "Python 3 (ipykernel)",
   "language": "python",
   "name": "python3"
  },
  "language_info": {
   "codemirror_mode": {
    "name": "ipython",
    "version": 3
   },
   "file_extension": ".py",
   "mimetype": "text/x-python",
   "name": "python",
   "nbconvert_exporter": "python",
   "pygments_lexer": "ipython3",
   "version": "3.11.2"
  }
 },
 "nbformat": 4,
 "nbformat_minor": 5
}
